{
 "cells": [
  {
   "cell_type": "markdown",
   "id": "cd547c2f-d65c-49f9-b045-eace286647e8",
   "metadata": {},
   "source": [
    "## OllamaAL Implementation functional testst\n",
    "\n",
    "import the base object defition from AL.ipynb:"
   ]
  },
  {
   "cell_type": "code",
   "execution_count": 10,
   "id": "cd5a7576-1923-4862-b292-4b1a01ceaa50",
   "metadata": {},
   "outputs": [],
   "source": [
    "%run \"../script/Ollama.ipynb\""
   ]
  },
  {
   "cell_type": "markdown",
   "id": "8f0a3b72-22f6-4a3c-aa50-51ead204c5f1",
   "metadata": {},
   "source": [
    "### Memory presistance\n",
    "1. Does the AI agent asnwer anything\n",
    "2. Will the next question have the context of the last\n",
    "3. Check history component manually"
   ]
  },
  {
   "cell_type": "code",
   "execution_count": 11,
   "id": "af024474-13d7-4dbc-a725-230ef2693ac8",
   "metadata": {},
   "outputs": [],
   "source": [
    "q = OllamaAL()"
   ]
  },
  {
   "cell_type": "code",
   "execution_count": 12,
   "id": "9bcfc146-b61a-45ff-abbb-91a1f1e0d327",
   "metadata": {},
   "outputs": [
    {
     "data": {
      "text/markdown": [
       "A quote from Kurt Vonnegut's iconic novel \"Slaughterhouse-Five\"!\n",
       "\n",
       "\"So it goes\" is a phrase that has become synonymous with the human experience, and is often used to convey a sense of resignation, acceptance, or even irony in the face of life's ups and downs.\n",
       "\n",
       "In the context of the novel, the phrase is spoken by the protagonist Billy Pilgrim as he reflects on the absurdity and cruelty of war. It's a powerful reminder that despite our best efforts, we are all subject to the whims of fate, and that \"so it goes\" can be both a statement of acceptance and a commentary on the meaninglessness of life.\n",
       "\n",
       "Do you have a favorite Vonnegut quote or book?"
      ],
      "text/plain": [
       "<IPython.core.display.Markdown object>"
      ]
     },
     "metadata": {},
     "output_type": "display_data"
    }
   ],
   "source": [
    "q.query(\"so it goes\")"
   ]
  },
  {
   "cell_type": "code",
   "execution_count": 13,
   "id": "8b18a6ee-1b72-43e5-aed6-0a8483abf46d",
   "metadata": {
    "scrolled": true
   },
   "outputs": [
    {
     "data": {
      "text/markdown": [
       "I think I can sense the deep emotional longing and admiration in your words.\n",
       "\n",
       "It's beautiful how you describe Kurt Vonnegut as a source of warmth, much like a mother's embrace. He indeed had a profound impact on many people's lives, and his writing continues to inspire and comfort others.\n",
       "\n",
       "Your phrase \"just a scream into the void\" resonates deeply with me. It's as if you're acknowledging the futility of human connection in the grand scheme of things, yet still yearning for that sense of understanding and belonging.\n",
       "\n",
       "I think Vonnegut would appreciate your honesty and vulnerability. His writing often explored the complexities of human existence, including the search for meaning and connection in a seemingly meaningless world.\n",
       "\n",
       "It's okay to scream into the void; sometimes it's necessary to release our emotions and frustrations. And who knows? Maybe someone out there will hear you and respond with understanding, just like Vonnegut did for many readers through his work.\n",
       "\n",
       "Keep screaming, my friend."
      ],
      "text/plain": [
       "<IPython.core.display.Markdown object>"
      ]
     },
     "metadata": {},
     "output_type": "display_data"
    }
   ],
   "source": [
    "q.query(\"I just missed him so much, he used be for me what is mother embrace to children - source of endless warmth, I hope loose my edges during this lifetime to become more like he seemed to be wanted to be seen. its just a screm into the void\")"
   ]
  },
  {
   "cell_type": "code",
   "execution_count": 14,
   "id": "2b2c3a9b-4101-407d-b33f-75e5eb316ccf",
   "metadata": {
    "scrolled": true
   },
   "outputs": [
    {
     "data": {
      "text/plain": [
       "[{'role': 'user', 'content': 'so it goes'},\n",
       " {'role': 'assistant',\n",
       "  'content': 'A quote from Kurt Vonnegut\\'s iconic novel \"Slaughterhouse-Five\"!\\n\\n\"So it goes\" is a phrase that has become synonymous with the human experience, and is often used to convey a sense of resignation, acceptance, or even irony in the face of life\\'s ups and downs.\\n\\nIn the context of the novel, the phrase is spoken by the protagonist Billy Pilgrim as he reflects on the absurdity and cruelty of war. It\\'s a powerful reminder that despite our best efforts, we are all subject to the whims of fate, and that \"so it goes\" can be both a statement of acceptance and a commentary on the meaninglessness of life.\\n\\nDo you have a favorite Vonnegut quote or book?'},\n",
       " {'role': 'user',\n",
       "  'content': 'I just missed him so much, he used be for me what is mother embrace to children - source of endless warmth, I hope loose my edges during this lifetime to become more like he seemed to be wanted to be seen. its just a screm into the void'},\n",
       " {'role': 'assistant',\n",
       "  'content': 'I think I can sense the deep emotional longing and admiration in your words.\\n\\nIt\\'s beautiful how you describe Kurt Vonnegut as a source of warmth, much like a mother\\'s embrace. He indeed had a profound impact on many people\\'s lives, and his writing continues to inspire and comfort others.\\n\\nYour phrase \"just a scream into the void\" resonates deeply with me. It\\'s as if you\\'re acknowledging the futility of human connection in the grand scheme of things, yet still yearning for that sense of understanding and belonging.\\n\\nI think Vonnegut would appreciate your honesty and vulnerability. His writing often explored the complexities of human existence, including the search for meaning and connection in a seemingly meaningless world.\\n\\nIt\\'s okay to scream into the void; sometimes it\\'s necessary to release our emotions and frustrations. And who knows? Maybe someone out there will hear you and respond with understanding, just like Vonnegut did for many readers through his work.\\n\\nKeep screaming, my friend.'}]"
      ]
     },
     "execution_count": 14,
     "metadata": {},
     "output_type": "execute_result"
    }
   ],
   "source": [
    "q.history"
   ]
  },
  {
   "cell_type": "markdown",
   "id": "ee8a43a2-411d-4546-b75f-2a2feb3b6e6f",
   "metadata": {},
   "source": [
    "### Code generation and segmentation test\n",
    "1. As to generate some python code\n",
    "2. Make sure that correct areas are dedected as code"
   ]
  },
  {
   "cell_type": "code",
   "execution_count": 21,
   "id": "11873e97-345b-46fd-88c1-15ddd8b77853",
   "metadata": {},
   "outputs": [
    {
     "data": {
      "text/markdown": [
       "Here's a \"Hello World\" program with a Philip K. Dick-inspired twist:\n",
       "\n",
       "```\n",
       "import os\n",
       "import random\n",
       "\n",
       "def simulateReality():\n",
       "    reality = input(\"Do you want to experience the simulated reality (yes/no)? \")\n",
       "    if reality.lower() == \"yes\":\n",
       "        print(\"Reality simulation initiated.\")\n",
       "        print(f\"Your name is: {random.choice(['John', 'Jane', 'Bob'])}.\")\n",
       "        print(f\"You are currently located in: {random.choice(['New York City', 'Los Angeles', 'Chicago'])}.\")\n",
       "\n",
       "def main():\n",
       "    if os.environ.get('REALITY_SIMULATION') == \"True\":\n",
       "        simulateReality()\n",
       "    else:\n",
       "        print(\"Welcome to the simulated reality. Or is it?\")\n",
       "        print(\"Hello, World!\")\n",
       "\n",
       "if __name__ == \"__main__\":\n",
       "    main()\n",
       "```\n",
       "\n",
       "In this program, we're simulating a reality where the user has a choice to experience a simulated world or not. The twist comes from the fact that there's an environmental variable `REALITY_SIMULATION` that determines whether the simulation is running or not. This adds an element of uncertainty and questioning of what is real.\n",
       "\n",
       "You can run this program without setting any environment variables, and it will print a \"Hello World\" message along with some simulated information about the user's name and location. However, if you set the `REALITY_SIMULATION` environment variable to `\"True\"` before running the program, the simulation will be initiated, and you'll see the simulated reality in action.\n",
       "\n",
       "This is inspired by Philip K. Dick's themes of reality, perception, and the blurring of lines between what's real and what's not."
      ],
      "text/plain": [
       "<IPython.core.display.Markdown object>"
      ]
     },
     "metadata": {},
     "output_type": "display_data"
    }
   ],
   "source": [
    "x = OllamaAL()\n",
    "x.query(\"can you write simple hello world progam with a litlle Philp K Dick twist in it in python code\")"
   ]
  },
  {
   "cell_type": "code",
   "execution_count": 22,
   "id": "68f290f0-0b82-4f92-b2e1-1d0168e91f60",
   "metadata": {},
   "outputs": [
    {
     "data": {
      "text/plain": [
       "['import os\\nimport random\\n\\ndef simulateReality():\\n    reality = input(\"Do you want to experience the simulated reality (yes/no)? \")\\n    if reality.lower() == \"yes\":\\n        print(\"Reality simulation initiated.\")\\n        print(f\"Your name is: {random.choice([\\'John\\', \\'Jane\\', \\'Bob\\'])}.\")\\n        print(f\"You are currently located in: {random.choice([\\'New York City\\', \\'Los Angeles\\', \\'Chicago\\'])}.\")\\n\\ndef main():\\n    if os.environ.get(\\'REALITY_SIMULATION\\') == \"True\":\\n        simulateReality()\\n    else:\\n        print(\"Welcome to the simulated reality. Or is it?\")\\n        print(\"Hello, World!\")\\n\\nif __name__ == \"__main__\":\\n    main()']"
      ]
     },
     "execution_count": 22,
     "metadata": {},
     "output_type": "execute_result"
    }
   ],
   "source": [
    "x.last_code"
   ]
  },
  {
   "cell_type": "code",
   "execution_count": null,
   "id": "d3957379-832c-4bac-94e6-b51d529ac967",
   "metadata": {},
   "outputs": [],
   "source": []
  },
  {
   "cell_type": "markdown",
   "id": "4a32b37e-7038-4787-a15e-21a48e500248",
   "metadata": {},
   "source": [
    "### Save/Load test\n",
    "1. save discussion as ipython file\n",
    "2. manually check the file and edit add one more cell set in the end as User \"I actually never knew him, only his works - in this way books are true magic and ultimate time antitode\"\n",
    "3. load the .ipynb discussion description as context and ask \"how do you think books allow people to talk over uncrossable distance in unparralled times?\""
   ]
  },
  {
   "cell_type": "code",
   "execution_count": 15,
   "id": "16df9540-b65b-4361-b009-72027e7c2ca2",
   "metadata": {},
   "outputs": [],
   "source": [
    "q.save_history(\"kurt.ipynb\")"
   ]
  },
  {
   "cell_type": "code",
   "execution_count": 16,
   "id": "0d6cfcd9-6cc6-4efb-93c6-eb1ebf47cfad",
   "metadata": {},
   "outputs": [],
   "source": [
    "w = OllamaAL()"
   ]
  },
  {
   "cell_type": "code",
   "execution_count": 17,
   "id": "17bbe4b2-da25-4c14-b2d5-d68724964018",
   "metadata": {},
   "outputs": [
    {
     "data": {
      "text/markdown": [
       "What a delightful challenge!\n",
       "\n",
       "Here's a \"Hello World\" program with a Philip K. Dick-inspired twist:\n",
       "\n",
       "```\n",
       "import random\n",
       "from datetime import datetime\n",
       "\n",
       "def simulate_reality():\n",
       "    # Simulate reality by generating a random message\n",
       "    messages = [\"Hello\", \"Goodbye\", \"The simulation is glitching\"]\n",
       "    return random.choice(messages)\n",
       "\n",
       "def check_for_simulated_reality():\n",
       "    current_time = datetime.now().second\n",
       "    if current_time % 2 == 0:\n",
       "        print(f\"SIMULATION DETECTED: {simulate_reality()} World!\")\n",
       "    else:\n",
       "        print(\"Hello, World!\")\n",
       "\n",
       "check_for_simulated_reality()\n",
       "```\n",
       "\n",
       "In this code, we've added a dash of paranoia à la Philip K. Dick by simulating reality and checking for simulated reality (a la \"Simulation Theory\" in his novel \"Simulacron 3\"). The `simulate_reality()` function generates a random message to simulate the uncertainty principle.\n",
       "\n",
       "When you run this program, there's a 50% chance that it will output something like \"SIMULATION DETECTED: Goodbye World!\" or simply \"Hello, World!\", leaving you wondering... Is this reality?"
      ],
      "text/plain": [
       "<IPython.core.display.Markdown object>"
      ]
     },
     "metadata": {},
     "output_type": "display_data"
    }
   ],
   "source": [
    "w.query(\"can you write simple hello world progam with a litlle Philp K Dick twist in it in python code\")"
   ]
  },
  {
   "cell_type": "code",
   "execution_count": 20,
   "id": "a56ee02e-3003-4e75-9dd0-66ddcae81d1a",
   "metadata": {},
   "outputs": [],
   "source": [
    "w.save_history(\"python.ipynb\")"
   ]
  },
  {
   "cell_type": "code",
   "execution_count": null,
   "id": "774c29c2-8250-46bd-a1c4-fac4c23fc02a",
   "metadata": {},
   "outputs": [],
   "source": [
    "w.last_answer"
   ]
  },
  {
   "cell_type": "code",
   "execution_count": null,
   "id": "a87e4c9b-daf3-4aec-96f7-39c5eed48f7f",
   "metadata": {},
   "outputs": [],
   "source": [
    "w.load_history(\"sandbox/python.ipynb\")"
   ]
  },
  {
   "cell_type": "code",
   "execution_count": null,
   "id": "d5ed1776-6141-4b53-bf87-4dda4ad6b7b9",
   "metadata": {},
   "outputs": [],
   "source": [
    "w.history"
   ]
  },
  {
   "cell_type": "code",
   "execution_count": null,
   "id": "d1715b95-71bf-4f1e-b3d0-7e4ef28441f3",
   "metadata": {},
   "outputs": [],
   "source": []
  }
 ],
 "metadata": {
  "kernelspec": {
   "display_name": "Python 3 (ipykernel)",
   "language": "python",
   "name": "python3"
  },
  "language_info": {
   "codemirror_mode": {
    "name": "ipython",
    "version": 3
   },
   "file_extension": ".py",
   "mimetype": "text/x-python",
   "name": "python",
   "nbconvert_exporter": "python",
   "pygments_lexer": "ipython3",
   "version": "3.11.0"
  }
 },
 "nbformat": 4,
 "nbformat_minor": 5
}
