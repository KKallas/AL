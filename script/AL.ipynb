{
 "cells": [
  {
   "cell_type": "markdown",
   "id": "cd6f9dae-7a17-4aff-9a80-f166e60cd133",
   "metadata": {},
   "source": [
    "# AL Documentation\n",
    "\n",
    "## Introduction\n",
    "\n",
    "AL simplifies the complexity of large language models into a simple, open-source solution. One intuitive interface. Multiple AI powerhouses. Ollama, Anthropic, OpenAI - seamlessly integrated into all python environments, you can use it even on 1970 terminals if youd like that sort of a thing.\n",
    "AL doesn't just fetch answers; it preserves your learning journey. Every interaction, every spark of inspiration, is captured in Jupyter notebooks. Share, version, and automate your AI workflows with ease.\n",
    "\n",
    "But here's the game-changer: these saved sessions aren't mere logs. They're goldmines for AI advancement. Use them to fine-tune models, iterate rapidly, and fuel your learning. Reuse, edit, and evolve your AI interactions effortlessly.\n",
    "* simple ASCII/md interface\n",
    "* model selection\n",
    "* save/load history as .ipynb file\n",
    "\n",
    "## Why Use AL?\n",
    "\n",
    "AL offers several advantages over other similar tools:\n",
    "\n",
    "1. **Unified Interface**: AL provides a consistent interface for interacting with different AI models, simplifying the process of switching between or comparing various AI services.\n",
    "\n",
    "2. **Extensibility**: The base class is designed to be easily extended, allowing developers to add support for new AI services by creating subclasses.\n",
    "\n",
    "3. **History Management**: AL includes built-in conversation history management, making it easy to maintain context in multi-turn conversations.\n",
    "\n",
    "4. **Code Handling**: The class includes methods for managing and setting code snippets to the clipboard, which is particularly useful for programming-related tasks.\n",
    "\n",
    "5. **Jupyter Notebook Integration**: AL supports saving and loading conversation history in Jupyter Notebook format, facilitating easy documentation and sharing of AI interactions.\n",
    "\n",
    "## AL Class Overview\n",
    "\n",
    "1. The `AL` class serves as the foundation for AI model interactions. Here's an overview of its main components:\n",
    "\n",
    "```python\n",
    "class AL:\n",
    "    def __init__(self, interface: Literal[\"ollama\", \"claude\", \"chatgpt\"] = \"ollama\", model: str = \"llama3.1\", api_key: Optional[str] = None):\n",
    "    # implementation\n",
    "\n",
    "    def ask(self, question):\n",
    "    # implementation\n",
    "```\n",
    "\n",
    "2. To acess the code snipets from the answer:\n",
    "```python\n",
    "    def copy_code(def copy_code(self, index: Optional[int] = None):\n",
    "        # If no index then last code snippet is copied, otherwise the index runs from last to first\n",
    "```\n",
    "\n",
    "3. To store/edit as jupyter lab workbook\n",
    "```python\n",
    "        \n",
    "    def save_history(self, filename):\n",
    "        # Implementation for saving history to a Jupyter Notebook\n",
    "\n",
    "    def load_history(self, filename):\n",
    "        # Implementation for loading history from a Jupyter Notebook\n",
    "```\n",
    "\n",
    "To add support for a new AI service, create a new subclass of AL and implement the `query` method. Here's a template for creating a new AI service subclass:\n",
    "\n",
    "```python\n",
    "class NewAIServiceAL(AL):\n",
    "    def __init__(self, model, api_key):\n",
    "        super().__init__(model)\n",
    "        self.api_key = api_key\n",
    "        # Add any other necessary initialization\n",
    "\n",
    "    def ask(self, question):\n",
    "        # Implement the API call to the new AI service\n",
    "        # Process the response\n",
    "        # Update self.history\n",
    "        # Print the processed response\n",
    "```\n",
    "\n",
    "## Conclusion\n",
    "\n",
    "AL provides a powerful and flexible foundation for interacting with various AI language models. By using AL, developers can easily integrate different AI services into their projects, manage conversation history, and handle code snippets efficiently. The extensible nature of AL allows for easy addition of new AI services, making it a valuable tool for developers working with multiple AI platforms."
   ]
  },
  {
   "cell_type": "markdown",
   "id": "622d99f4-7139-41c3-8406-89c56e5455e7",
   "metadata": {
    "editable": true,
    "slideshow": {
     "slide_type": ""
    },
    "tags": []
   },
   "source": [
    "## Generic AL object definition"
   ]
  },
  {
   "cell_type": "code",
   "execution_count": 110,
   "id": "5fb60b6f-2e7c-4f9a-b363-c12815b195e6",
   "metadata": {},
   "outputs": [],
   "source": [
    "from typing import Literal, Optional, List, Dict\n",
    "from IPython.display import Markdown\n",
    "from datetime import datetime\n",
    "import json\n",
    "import nbformat as nbf\n",
    "import pyperclip\n",
    "\n",
    "class AL:\n",
    "    def __init__(\n",
    "        self, \n",
    "        interface: Literal[\"ollama\", \"claude\", \"chatgpt\"] = \"ollama\",\n",
    "        model: str = \"llama3.1\",\n",
    "        api_key: Optional[str] = None\n",
    "    ):\n",
    "        self.interface = interface\n",
    "        self.model = model\n",
    "        self.api_key = api_key\n",
    "        self.history = []\n",
    "        self.last_code = []\n",
    "        self.active_code = 0\n",
    "        \n",
    "        # Initialize appropriate client\n",
    "        self._init_client()\n",
    "\n",
    "    def _init_client(self):\n",
    "        if self.interface == \"ollama\":\n",
    "            import ollama\n",
    "            self.client = ollama\n",
    "        elif self.interface == \"claude\":\n",
    "            from anthropic import Anthropic\n",
    "            self.client = Anthropic(api_key=self.api_key)\n",
    "        else:  # chatgpt\n",
    "            import openai\n",
    "            self.client = openai.OpenAI(api_key=self.api_key)\n",
    "\n",
    "    def ask(self, message: str):\n",
    "        # Store user message\n",
    "        self.history.append({\n",
    "            \"role\": \"user\",\n",
    "            \"content\": message,\n",
    "            \"timestamp\": datetime.now().isoformat()\n",
    "        })\n",
    "        response = self._get_response(self.history)\n",
    "\n",
    "        # Process response and extract code blocks\n",
    "        parts = response.split('```')\n",
    "        for i, part in enumerate(parts):\n",
    "            if i % 2 == 1:  # Code block\n",
    "                lines = part.splitlines()\n",
    "                if lines:\n",
    "                    code = '\\n'.join(lines[1:]).strip()  # Skip language line\n",
    "                    self.last_code.insert(0, code)  # Add to front of list\n",
    "        \n",
    "        # Process and store response\n",
    "        self.history.append({\n",
    "            \"role\": \"assistant\",\n",
    "            \"content\": response,\n",
    "            \"timestamp\": datetime.now().isoformat()\n",
    "        })\n",
    "        \n",
    "        # Display response\n",
    "        display(Markdown(response))\n",
    "\n",
    "    def _get_response(self, message: list) -> str:\n",
    "        if self.interface == \"ollama\":\n",
    "            response = self.client.chat(\n",
    "                model=self.model, \n",
    "                messages=message\n",
    "            )\n",
    "            return response['message']['content']\n",
    "        elif self.interface == \"claude\":\n",
    "            response = self.client.messages.create(\n",
    "                model=self.model,\n",
    "                messages=message\n",
    "            )\n",
    "            return response.content[0].text\n",
    "        else:  # chatgpt\n",
    "            response = self.client.chat.completions.create(\n",
    "                model=self.model,\n",
    "                messages=message\n",
    "            )\n",
    "            return response.choices[0].message.content\n",
    "\n",
    "    def copy_code(self, index: Optional[int] = None):\n",
    "        \"\"\"Copy specific code block to clipboard\"\"\"\n",
    "        if index is None:\n",
    "            index = self.active_code\n",
    "        if 0 <= index < len(self.last_code):\n",
    "            pyperclip.copy(self.last_code[index])\n",
    "            print(f\"Copied code block {index} to clipboard\")\n",
    "            print(self.last_code[index])\n",
    "        else:\n",
    "            print(\"Invalid code block index\")"
   ]
  },
  {
   "cell_type": "code",
   "execution_count": 113,
   "id": "aab859da-adf9-48de-bf0d-437bd6d0a241",
   "metadata": {},
   "outputs": [],
   "source": [
    "class AL(AL):\n",
    "    def split_response(self, response: str) -> List[Dict]:\n",
    "        \"\"\"Parse response into markdown and code segments\"\"\"\n",
    "        segments = []\n",
    "        parts = response.split('```')\n",
    "        \n",
    "        for i, part in enumerate(parts):\n",
    "            if i % 2 == 0:  # Markdown content\n",
    "                if part.strip():\n",
    "                    segments.append({\n",
    "                        \"type\": \"markdown\", \n",
    "                        \"content\": part.strip()\n",
    "                    })\n",
    "            else:  # Code content\n",
    "                lines = part.splitlines()\n",
    "                if lines:\n",
    "                    language = lines[0].strip()\n",
    "                    code = '\\n'.join(lines[1:]).strip()\n",
    "                    segments.append({\n",
    "                        \"type\": \"code\", \n",
    "                        \"language\": language, \n",
    "                        \"content\": code\n",
    "                    })\n",
    "        \n",
    "        return segments\n",
    "    \n",
    "    def save_history(self, filename: str):\n",
    "        \"\"\"Save conversation to notebook\"\"\"\n",
    "        if not filename.endswith('.ipynb'):\n",
    "            filename += '.ipynb'\n",
    "            \n",
    "        nb = nbf.v4.new_notebook()\n",
    "        cells = []\n",
    "\n",
    "        for entry in self.history:\n",
    "            # Add role cell\n",
    "            cells.append(nbf.v4.new_markdown_cell(\n",
    "                f\"## {entry['role'].capitalize()}\"\n",
    "            ))\n",
    "\n",
    "            # Split and add content cells\n",
    "            segments = self.split_response(entry['content'])\n",
    "            for segment in segments:\n",
    "                if segment['type'] == 'markdown':\n",
    "                    cells.append(nbf.v4.new_markdown_cell(\n",
    "                        segment['content']\n",
    "                    ))\n",
    "                else:\n",
    "                    cells.append(nbf.v4.new_code_cell(\n",
    "                        segment['content']\n",
    "                    ))\n",
    "\n",
    "        nb['cells'] = cells\n",
    "        \n",
    "        with open(filename, 'w', encoding='utf-8') as f:\n",
    "            nbf.write(nb, f)\n",
    "\n",
    "    def load_history(self, filename: str):\n",
    "        \"\"\"Load conversation from notebook\"\"\"\n",
    "        if not filename.endswith('.ipynb'):\n",
    "            filename += '.ipynb'\n",
    "            \n",
    "        with open(filename, 'r', encoding='utf-8') as f:\n",
    "            nb = nbf.read(f, as_version=4)\n",
    "        \n",
    "        self.history = []\n",
    "        self.last_code = []\n",
    "        \n",
    "        current_entry = None\n",
    "        \n",
    "        for cell in nb.cells:\n",
    "            source = cell['source']\n",
    "            \n",
    "            if cell['cell_type'] == 'markdown' and source.startswith('## '):\n",
    "                # If we have a previous entry, add it\n",
    "                if current_entry:\n",
    "                    self.history.append(current_entry)\n",
    "                \n",
    "                # Start new entry\n",
    "                role = source[3:].lower().strip()\n",
    "                current_entry = {\n",
    "                    'role': role,\n",
    "                    'content': '',\n",
    "                    'timestamp': datetime.now().isoformat()\n",
    "                }\n",
    "            elif current_entry:\n",
    "                # Add content to current entry\n",
    "                if cell['cell_type'] == 'code':\n",
    "                    if current_entry['role'] == 'assistant':\n",
    "                        self.last_code.insert(0, source)  # Add to front of list\n",
    "                    current_entry['content'] += f'```python\\n{source}\\n```\\n'\n",
    "                else:\n",
    "                    current_entry['content'] += f'{source}\\n'\n",
    "        \n",
    "        # Add last entry if exists\n",
    "        if current_entry:\n",
    "            self.history.append(current_entry)"
   ]
  },
  {
   "cell_type": "code",
   "execution_count": 114,
   "id": "07277d0c-8f2f-4fdf-9414-e87f21d19976",
   "metadata": {},
   "outputs": [],
   "source": [
    "chat = AL()"
   ]
  },
  {
   "cell_type": "code",
   "execution_count": 115,
   "id": "fe94a31b-8d04-4be3-98f2-217127159a19",
   "metadata": {},
   "outputs": [
    {
     "data": {
      "text/markdown": [
       "Here's a simple implementation of a Random Number Generator (RNG) using the `random` module in Python:\n",
       "\n",
       "```python\n",
       "import random\n",
       "\n",
       "class SimpleRandomNumberGenerator:\n",
       "    def __init__(self, seed=None):\n",
       "        self.rng = random.Random(seed)\n",
       "\n",
       "    def generate_number(self, min_value=1, max_value=100):\n",
       "        return self.rng.randint(min_value, max_value)\n",
       "\n",
       "\n",
       "# Example usage:\n",
       "if __name__ == \"__main__\":\n",
       "    rng = SimpleRandomNumberGenerator()\n",
       "\n",
       "    for _ in range(5):\n",
       "        print(rng.generate_number())\n",
       "```\n",
       "\n",
       "In this code:\n",
       "\n",
       "*   We create a class `SimpleRandomNumberGenerator` to encapsulate the RNG functionality.\n",
       "*   The `seed` parameter is used to initialize the random number generator with a specific seed value. If no seed is provided, the system clock will be used as the default seed.\n",
       "*   The `generate_number` method uses the `randint` function from the `random` module to generate a random integer within the specified range (`min_value` and `max_value`). By default, it generates numbers between 1 and 100.\n",
       "\n",
       "You can adjust the `min_value` and `max_value` parameters when calling `generate_number` to get random numbers in your desired range."
      ],
      "text/plain": [
       "<IPython.core.display.Markdown object>"
      ]
     },
     "metadata": {},
     "output_type": "display_data"
    }
   ],
   "source": [
    "chat.ask(\"can you write simple random number generator in python\")"
   ]
  },
  {
   "cell_type": "code",
   "execution_count": 103,
   "id": "6fc07253-02c4-4b1c-9b31-3ebe032a8c9a",
   "metadata": {},
   "outputs": [
    {
     "data": {
      "text/markdown": [
       "Here's a simple yet clever \"Hello World\" program in Python:\n",
       "\n",
       "```python\n",
       "print(\"Hello, \"+str(ord('W'))+\"orld!\")\n",
       "```\n",
       "\n",
       "This program uses the built-in `ord` function to get the ASCII value of the character 'W' (which is 87), converts it to a string using `str`, and then concatenates it with \"Hello, \" and \"orld!\" to print out \"Hello, 87orld!\".\n",
       "\n",
       "However, this can be considered clever only in the sense that it uses an ASCII code instead of typing out the word. Here's another example of a clever Hello World program:\n",
       "\n",
       "```python\n",
       "def hello():\n",
       "    return(\" \"*3)+\"Hello,\"+(\" \"*7)+(\"World!\" if input() else \"\")\n",
       "\n",
       "hello()\n",
       "```\n",
       "\n",
       "This program takes an input from the user (which can be any character). If the input is not empty, it prints out \"Hello, World!\". Otherwise, it doesn't print anything.\n",
       "\n",
       "Another example of a clever Hello World program uses bitwise operations to create the string:\n",
       "\n",
       "```python\n",
       "print(\"Hello,\"+chr(72)+chr(101)+chr(108)+chr(108)+chr(111)+\", \"+chr(87)+\"orld!\")\n",
       "```\n",
       "\n",
       "This program converts each character in \"Hello, World!\" into its ASCII value and then prints out those values as characters.\n",
       "\n",
       "Finally, here's an example of a clever Hello World program that uses recursion:\n",
       "\n",
       "```python\n",
       "def hello(x=\"\"):\n",
       "    if len(x) < 5:\n",
       "        print(\"H\" + x)\n",
       "        return hello(\"ello,\"+x)\n",
       "    else:\n",
       "        return\n",
       "\n",
       "hello()\n",
       "```\n",
       "\n",
       "This program recursively prints out the string \"Hello, \" with increasing length until it reaches 11 characters."
      ],
      "text/plain": [
       "<IPython.core.display.Markdown object>"
      ]
     },
     "metadata": {},
     "output_type": "display_data"
    }
   ],
   "source": [
    "chat.ask(\"can you make in the same language simple and clever hello world program as well?\")"
   ]
  },
  {
   "cell_type": "code",
   "execution_count": 107,
   "id": "a951bdd9-f696-4fbd-9fb9-44f09a90be3f",
   "metadata": {},
   "outputs": [
    {
     "name": "stdout",
     "output_type": "stream",
     "text": [
      "Copied code block 1 to clipboard\n",
      "print(\"Hello,\"+chr(72)+chr(101)+chr(108)+chr(108)+chr(111)+\", \"+chr(87)+\"orld!\")\n"
     ]
    }
   ],
   "source": [
    "chat.copy_code(1)"
   ]
  },
  {
   "cell_type": "code",
   "execution_count": 108,
   "id": "82f8243c-c978-4954-a28c-a3ad0d718a25",
   "metadata": {},
   "outputs": [
    {
     "name": "stdout",
     "output_type": "stream",
     "text": [
      "Hello,Hello, World!\n"
     ]
    }
   ],
   "source": [
    "print(\"Hello,\"+chr(72)+chr(101)+chr(108)+chr(108)+chr(111)+\", \"+chr(87)+\"orld!\")"
   ]
  },
  {
   "cell_type": "code",
   "execution_count": 116,
   "id": "e59eafe5-88f9-44b1-b6df-f7bc48343cbc",
   "metadata": {},
   "outputs": [],
   "source": [
    "chat.save_history(\"test\")"
   ]
  },
  {
   "cell_type": "code",
   "execution_count": 83,
   "id": "56b34e85-2811-4e1e-bb12-bcbe9496fc7d",
   "metadata": {},
   "outputs": [
    {
     "data": {
      "text/plain": [
       "['def greet(func):\\n    def wrapper():\\n        print(\"Hello,\")\\n        func()\\n        print(\"World!\")\\n    return wrapper\\n\\n@greet\\ndef say_hello():\\n    print(\"I am happy to meet you.\")\\n\\nsay_hello()',\n",
       " 'print((lambda x: x[0])([\"Hello, World!\"]))',\n",
       " 'def hello_world(n=0):\\n    print(\"Hello,\" * n + \" World!\" if n == 0 else \"World!\")\\n    hello_world(n+1)\\n\\nhello_world()',\n",
       " 'print(\"Hello, World!\")',\n",
       " 'import random\\n\\ndef generate_random_number(min_val, max_val):\\n    \"\"\"\\n    Generate a random integer between min_val and max_val (inclusive).\\n    \\n    Args:\\n        min_val (int): The minimum value.\\n        max_val (int): The maximum value.\\n        \\n    Returns:\\n        int: A random integer between min_val and max_val.\\n    \"\"\"\\n    return random.randint(min_val, max_val)\\n\\n# Example usage\\nrandom_number = generate_random_number(1, 100)\\nprint(f\"Random number between 1 and 100: {random_number}\")']"
      ]
     },
     "execution_count": 83,
     "metadata": {},
     "output_type": "execute_result"
    }
   ],
   "source": [
    "chat.last_code"
   ]
  },
  {
   "cell_type": "code",
   "execution_count": 91,
   "id": "9ba4df76-32d7-47fa-9db9-35d6b19b5c88",
   "metadata": {},
   "outputs": [],
   "source": [
    "chat.load_history(\"test.ipynb\")"
   ]
  },
  {
   "cell_type": "code",
   "execution_count": 92,
   "id": "7beaef29-4a73-45fa-9ad1-29662fdd0283",
   "metadata": {},
   "outputs": [
    {
     "data": {
      "text/plain": [
       "[{'role': 'user',\n",
       "  'content': 'can you write simple random number generator in python\\n',\n",
       "  'timestamp': '2024-12-19T21:41:57.996821'},\n",
       " {'role': 'assistant',\n",
       "  'content': 'Here\\'s a simple example of a random number generator using Python\\'s built-in `random` module:\\n```python\\nimport random\\n\\ndef generate_random_number(min_val, max_val):\\n    \"\"\"\\n    Generate a random integer between min_val and max_val (inclusive).\\n    \\n    Args:\\n        min_val (int): The minimum value.\\n        max_val (int): The maximum value.\\n        \\n    Returns:\\n        int: A random integer between min_val and max_val.\\n    \"\"\"\\n    return random.randint(min_val, max_val)\\n\\n# Example usage\\nrandom_number = generate_random_number(1, 100)\\nprint(f\"Random number between 1 and 100: {random_number}\")\\n```\\nThis script defines a function `generate_random_number` that takes two integers as arguments, `min_val` and `max_val`, which represent the minimum and maximum values for the random number to be generated within.\\n\\nThe function then returns an integer using the `random.randint(a, b)` method from Python\\'s built-in `random` module. This method generates a random integer `N` such that `a <= N <= b`.\\n\\nIn the example usage section, we call this function with arguments of 1 and 100 to demonstrate how it works.\\n\\n**Note:** The output will vary every time you run the script because it\\'s generating a truly random number each time.\\n',\n",
       "  'timestamp': '2024-12-19T21:41:57.996821'},\n",
       " {'role': 'user',\n",
       "  'content': 'can you make in the same language simple and clever hello world program as well?\\n',\n",
       "  'timestamp': '2024-12-19T21:41:57.996821'},\n",
       " {'role': 'assistant',\n",
       "  'content': 'Here\\'s a simple yet clever \"Hello, World!\" program in Python:\\n```python\\nprint(\"Hello, World!\")\\n```\\nYes, that\\'s it! This is the traditional first program written by beginners to demonstrate the basic syntax of a programming language.\\n\\nHowever, if you\\'d like something a bit more creative, here are a few alternatives:\\n\\n1. Using recursion:\\n```python\\ndef hello_world(n=0):\\n    print(\"Hello,\" * n + \" World!\" if n == 0 else \"World!\")\\n    hello_world(n+1)\\n\\nhello_world()\\n```\\nThis program uses a recursive function to print the string \"Hello, World!\" with an increasing number of \"Hello,\" parts, until it reaches the maximum recursion depth.\\n\\n2. Using lambda functions:\\n```python\\nprint((lambda x: x[0])([\"Hello, World!\"]))\\n```\\nThis program uses a lambda function to extract the first element of a list containing the string \"Hello, World!\" and print it.\\n\\n3. Using a decorator:\\n```python\\ndef greet(func):\\n    def wrapper():\\n        print(\"Hello,\")\\n        func()\\n        print(\"World!\")\\n    return wrapper\\n\\n@greet\\ndef say_hello():\\n    print(\"I am happy to meet you.\")\\n\\nsay_hello()\\n```\\nThis program defines a decorator that prints \"Hello,\" before and \"World!\" after the function it\\'s applied to. The `say_hello` function then uses this decorator to print \"Hello, World!\".\\n',\n",
       "  'timestamp': '2024-12-19T21:41:57.996821'}]"
      ]
     },
     "execution_count": 92,
     "metadata": {},
     "output_type": "execute_result"
    }
   ],
   "source": [
    "chat.history"
   ]
  },
  {
   "cell_type": "code",
   "execution_count": null,
   "id": "af61393c-f152-4c82-aea6-62eb34454e4d",
   "metadata": {},
   "outputs": [],
   "source": []
  }
 ],
 "metadata": {
  "kernelspec": {
   "display_name": "Python 3 (ipykernel)",
   "language": "python",
   "name": "python3"
  },
  "language_info": {
   "codemirror_mode": {
    "name": "ipython",
    "version": 3
   },
   "file_extension": ".py",
   "mimetype": "text/x-python",
   "name": "python",
   "nbconvert_exporter": "python",
   "pygments_lexer": "ipython3",
   "version": "3.11.0"
  }
 },
 "nbformat": 4,
 "nbformat_minor": 5
}
