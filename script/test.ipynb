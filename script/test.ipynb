{
 "cells": [
  {
   "cell_type": "markdown",
   "id": "2921b297",
   "metadata": {},
   "source": [
    "## User"
   ]
  },
  {
   "cell_type": "markdown",
   "id": "dac43cbf",
   "metadata": {},
   "source": [
    "can you write simple random number generator in python"
   ]
  },
  {
   "cell_type": "markdown",
   "id": "e8163a5b",
   "metadata": {},
   "source": [
    "## Assistant"
   ]
  },
  {
   "cell_type": "markdown",
   "id": "6c28634f",
   "metadata": {},
   "source": [
    "Here's a simple implementation of a Random Number Generator (RNG) using the `random` module in Python:"
   ]
  },
  {
   "cell_type": "code",
   "execution_count": null,
   "id": "a6664e47",
   "metadata": {},
   "outputs": [],
   "source": [
    "import random\n",
    "\n",
    "class SimpleRandomNumberGenerator:\n",
    "    def __init__(self, seed=None):\n",
    "        self.rng = random.Random(seed)\n",
    "\n",
    "    def generate_number(self, min_value=1, max_value=100):\n",
    "        return self.rng.randint(min_value, max_value)\n",
    "\n",
    "\n",
    "# Example usage:\n",
    "if __name__ == \"__main__\":\n",
    "    rng = SimpleRandomNumberGenerator()\n",
    "\n",
    "    for _ in range(5):\n",
    "        print(rng.generate_number())"
   ]
  },
  {
   "cell_type": "markdown",
   "id": "90670e5e",
   "metadata": {},
   "source": [
    "In this code:\n",
    "\n",
    "*   We create a class `SimpleRandomNumberGenerator` to encapsulate the RNG functionality.\n",
    "*   The `seed` parameter is used to initialize the random number generator with a specific seed value. If no seed is provided, the system clock will be used as the default seed.\n",
    "*   The `generate_number` method uses the `randint` function from the `random` module to generate a random integer within the specified range (`min_value` and `max_value`). By default, it generates numbers between 1 and 100.\n",
    "\n",
    "You can adjust the `min_value` and `max_value` parameters when calling `generate_number` to get random numbers in your desired range."
   ]
  }
 ],
 "metadata": {},
 "nbformat": 4,
 "nbformat_minor": 5
}
